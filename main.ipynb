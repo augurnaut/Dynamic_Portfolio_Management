{
 "cells": [
  {
   "cell_type": "code",
   "execution_count": 15,
   "metadata": {},
   "outputs": [],
   "source": [
    "from data_retrieval import alpaca\n",
    "from data_retrieval import crypto_market\n",
    "from data_retrieval import getbinance\n",
    "from data_retrieval import sp500_index\n",
    "\n",
    "from functions_graphs import functions\n",
    "from user_input import risk_assesment\n",
    "\n",
    "import pandas as pd\n",
    "import hvplot.pandas\n",
    "import numpy"
   ]
  },
  {
   "cell_type": "code",
   "execution_count": 2,
   "metadata": {},
   "outputs": [],
   "source": [
    "# user_input = ra.get_user_risk_tolerance()"
   ]
  },
  {
   "cell_type": "code",
   "execution_count": 39,
   "metadata": {},
   "outputs": [],
   "source": [
    "def get_crypto_dict():\n",
    "    # Returns a dictionary with ticker as index and its dataframe as a value\n",
    "    cryptos = ['ADA', 'BNB', 'BTC', 'DOT', 'ETH', 'LINK', 'LTC', 'VET', 'XLM', 'XRP']\n",
    "    crypto_dict = {}\n",
    "    for ticker in cryptos:\n",
    "        df = getbinance.Binance(ticker, 3)\n",
    "        df = pd.DataFrame(df)\n",
    "        crypto_dict[ticker] = df\n",
    "\n",
    "    return crypto_dict"
   ]
  },
  {
   "cell_type": "code",
   "execution_count": 40,
   "metadata": {},
   "outputs": [],
   "source": [
    "dictionary = get_crypto_dict()"
   ]
  },
  {
   "cell_type": "code",
   "execution_count": 41,
   "metadata": {},
   "outputs": [],
   "source": [
    "def get_std(crypto_dfs):\n",
    "    # Returns a dictionary of all crypto stds\n",
    "    cryptos = ['ADA', 'BNB', 'BTC', 'DOT', 'ETH', 'LINK', 'LTC', 'VET', 'XLM', 'XRP']\n",
    "    crypto_std = {}\n",
    "    for ticker in cryptos:\n",
    "        df = crypto_dfs[ticker]\n",
    "        c_name = f\"{ticker}USDT_Close\"\n",
    "        funct = functions.Functions(df, c_name)\n",
    "        df = funct.daily_returns()\n",
    "        df.dropna(inplace=True)\n",
    "\n",
    "        crypto_std[ticker] = funct.standard_deviation()\n",
    "#         display(df.head())\n",
    "    return crypto_std"
   ]
  },
  {
   "cell_type": "code",
   "execution_count": 47,
   "metadata": {},
   "outputs": [],
   "source": [
    "crypto_std = get_std(dictionary)"
   ]
  },
  {
   "cell_type": "code",
   "execution_count": 53,
   "metadata": {},
   "outputs": [],
   "source": [
    "columns = ['standard deviation']"
   ]
  },
  {
   "cell_type": "code",
   "execution_count": 54,
   "metadata": {},
   "outputs": [],
   "source": [
    "crypto_std_df = pd.DataFrame(crypto_std, index=columns)"
   ]
  },
  {
   "cell_type": "code",
   "execution_count": 68,
   "metadata": {},
   "outputs": [
    {
     "data": {
      "text/html": [
       "<div>\n",
       "<style scoped>\n",
       "    .dataframe tbody tr th:only-of-type {\n",
       "        vertical-align: middle;\n",
       "    }\n",
       "\n",
       "    .dataframe tbody tr th {\n",
       "        vertical-align: top;\n",
       "    }\n",
       "\n",
       "    .dataframe thead th {\n",
       "        text-align: right;\n",
       "    }\n",
       "</style>\n",
       "<table border=\"1\" class=\"dataframe\">\n",
       "  <thead>\n",
       "    <tr style=\"text-align: right;\">\n",
       "      <th></th>\n",
       "      <th>standard deviation</th>\n",
       "    </tr>\n",
       "  </thead>\n",
       "  <tbody>\n",
       "    <tr>\n",
       "      <th>ADA</th>\n",
       "      <td>0.060137</td>\n",
       "    </tr>\n",
       "    <tr>\n",
       "      <th>BNB</th>\n",
       "      <td>0.059834</td>\n",
       "    </tr>\n",
       "    <tr>\n",
       "      <th>BTC</th>\n",
       "      <td>0.039431</td>\n",
       "    </tr>\n",
       "    <tr>\n",
       "      <th>DOT</th>\n",
       "      <td>0.083545</td>\n",
       "    </tr>\n",
       "    <tr>\n",
       "      <th>ETH</th>\n",
       "      <td>0.052380</td>\n",
       "    </tr>\n",
       "    <tr>\n",
       "      <th>LINK</th>\n",
       "      <td>0.071551</td>\n",
       "    </tr>\n",
       "    <tr>\n",
       "      <th>LTC</th>\n",
       "      <td>0.055060</td>\n",
       "    </tr>\n",
       "    <tr>\n",
       "      <th>VET</th>\n",
       "      <td>0.068487</td>\n",
       "    </tr>\n",
       "    <tr>\n",
       "      <th>XLM</th>\n",
       "      <td>0.063335</td>\n",
       "    </tr>\n",
       "    <tr>\n",
       "      <th>XRP</th>\n",
       "      <td>0.064917</td>\n",
       "    </tr>\n",
       "  </tbody>\n",
       "</table>\n",
       "</div>"
      ],
      "text/plain": [
       "      standard deviation\n",
       "ADA             0.060137\n",
       "BNB             0.059834\n",
       "BTC             0.039431\n",
       "DOT             0.083545\n",
       "ETH             0.052380\n",
       "LINK            0.071551\n",
       "LTC             0.055060\n",
       "VET             0.068487\n",
       "XLM             0.063335\n",
       "XRP             0.064917"
      ]
     },
     "execution_count": 68,
     "metadata": {},
     "output_type": "execute_result"
    }
   ],
   "source": [
    "crypto_std_df = crypto_std_df.T\n",
    "crypto_std_df"
   ]
  },
  {
   "cell_type": "code",
   "execution_count": 70,
   "metadata": {},
   "outputs": [],
   "source": [
    "crypto_std_df = crypto_std_df.sort_values(by=['standard deviation'])"
   ]
  },
  {
   "cell_type": "code",
   "execution_count": 71,
   "metadata": {},
   "outputs": [
    {
     "data": {},
     "metadata": {},
     "output_type": "display_data"
    },
    {
     "data": {
      "application/vnd.holoviews_exec.v0+json": "",
      "text/html": [
       "<div id='2683'>\n",
       "\n",
       "\n",
       "\n",
       "\n",
       "\n",
       "  <div class=\"bk-root\" id=\"c25992cc-a21c-4185-9fa6-034fd74fa8ab\" data-root-id=\"2683\"></div>\n",
       "</div>\n",
       "<script type=\"application/javascript\">(function(root) {\n",
       "  function embed_document(root) {\n",
       "    var docs_json = {\"52d8f981-fcde-4f8f-ae1a-609c91c19e26\":{\"defs\":[{\"extends\":null,\"module\":null,\"name\":\"ReactiveHTML1\",\"overrides\":[],\"properties\":[]},{\"extends\":null,\"module\":null,\"name\":\"FlexBox1\",\"overrides\":[],\"properties\":[{\"default\":\"flex-start\",\"kind\":null,\"name\":\"align_content\"},{\"default\":\"flex-start\",\"kind\":null,\"name\":\"align_items\"},{\"default\":\"row\",\"kind\":null,\"name\":\"flex_direction\"},{\"default\":\"wrap\",\"kind\":null,\"name\":\"flex_wrap\"},{\"default\":\"flex-start\",\"kind\":null,\"name\":\"justify_content\"}]},{\"extends\":null,\"module\":null,\"name\":\"TemplateActions1\",\"overrides\":[],\"properties\":[{\"default\":0,\"kind\":null,\"name\":\"open_modal\"},{\"default\":0,\"kind\":null,\"name\":\"close_modal\"}]},{\"extends\":null,\"module\":null,\"name\":\"MaterialTemplateActions1\",\"overrides\":[],\"properties\":[{\"default\":0,\"kind\":null,\"name\":\"open_modal\"},{\"default\":0,\"kind\":null,\"name\":\"close_modal\"}]}],\"roots\":{\"references\":[{\"attributes\":{\"axis_label\":\"\",\"formatter\":{\"id\":\"2727\"},\"major_label_policy\":{\"id\":\"2726\"},\"ticker\":{\"id\":\"2698\"}},\"id\":\"2697\",\"type\":\"CategoricalAxis\"},{\"attributes\":{},\"id\":\"2693\",\"type\":\"CategoricalScale\"},{\"attributes\":{\"bottom\":{\"value\":0},\"fill_alpha\":{\"value\":1.0},\"fill_color\":{\"value\":\"#30a2da\"},\"hatch_alpha\":{\"value\":1.0},\"hatch_color\":{\"value\":\"black\"},\"hatch_scale\":{\"value\":12.0},\"hatch_weight\":{\"value\":1.0},\"line_alpha\":{\"value\":1.0},\"line_cap\":{\"value\":\"butt\"},\"line_color\":{\"value\":\"black\"},\"line_dash\":{\"value\":[]},\"line_dash_offset\":{\"value\":0},\"line_join\":{\"value\":\"bevel\"},\"line_width\":{\"value\":1},\"top\":{\"field\":\"standard_deviation\"},\"width\":{\"value\":0.8},\"x\":{\"field\":\"index\"}},\"id\":\"2725\",\"type\":\"VBar\"},{\"attributes\":{},\"id\":\"2727\",\"type\":\"CategoricalTickFormatter\"},{\"attributes\":{},\"id\":\"2695\",\"type\":\"LinearScale\"},{\"attributes\":{\"active_multi\":null,\"tools\":[{\"id\":\"2687\"},{\"id\":\"2704\"},{\"id\":\"2705\"},{\"id\":\"2706\"},{\"id\":\"2707\"},{\"id\":\"2708\"}]},\"id\":\"2710\",\"type\":\"Toolbar\"},{\"attributes\":{\"axis_label\":\"standard deviation\",\"formatter\":{\"id\":\"2729\"},\"major_label_policy\":{\"id\":\"2730\"},\"ticker\":{\"id\":\"2701\"}},\"id\":\"2700\",\"type\":\"LinearAxis\"},{\"attributes\":{},\"id\":\"2740\",\"type\":\"UnionRenderers\"},{\"attributes\":{},\"id\":\"2698\",\"type\":\"CategoricalTicker\"},{\"attributes\":{\"data\":{\"index\":[\"BTC\",\"ETH\",\"LTC\",\"BNB\",\"ADA\",\"XLM\",\"XRP\",\"VET\",\"LINK\",\"DOT\"],\"standard_deviation\":{\"__ndarray__\":\"KQnQ5FUwpD+mAbrFhdGqP+bVg7TaMKw/ne1pkpyirj+y2p9EVsquPyxxHR62NrA//pBS12CesD/Wmf2rY4ixPzRDq2ElUbI/dy/5GDdjtT8=\",\"dtype\":\"float64\",\"order\":\"little\",\"shape\":[10]}},\"selected\":{\"id\":\"2718\"},\"selection_policy\":{\"id\":\"2740\"}},\"id\":\"2717\",\"type\":\"ColumnDataSource\"},{\"attributes\":{},\"id\":\"2726\",\"type\":\"AllLabels\"},{\"attributes\":{\"end\":0.08795654252872023,\"reset_end\":0.08795654252872023,\"reset_start\":0.0,\"tags\":[[[\"standard deviation\",\"standard deviation\",null]]]},\"id\":\"2686\",\"type\":\"Range1d\"},{\"attributes\":{\"source\":{\"id\":\"2717\"}},\"id\":\"2724\",\"type\":\"CDSView\"},{\"attributes\":{\"axis\":{\"id\":\"2697\"},\"grid_line_color\":null,\"ticker\":null},\"id\":\"2699\",\"type\":\"Grid\"},{\"attributes\":{\"callback\":null,\"renderers\":[{\"id\":\"2723\"}],\"tags\":[\"hv_created\"],\"tooltips\":[[\"index\",\"@{index}\"],[\"standard deviation\",\"@{standard_deviation}\"]]},\"id\":\"2687\",\"type\":\"HoverTool\"},{\"attributes\":{},\"id\":\"2718\",\"type\":\"Selection\"},{\"attributes\":{\"factors\":[\"BTC\",\"ETH\",\"LTC\",\"BNB\",\"ADA\",\"XLM\",\"XRP\",\"VET\",\"LINK\",\"DOT\"],\"tags\":[[[\"index\",\"index\",null]]]},\"id\":\"2685\",\"type\":\"FactorRange\"},{\"attributes\":{\"margin\":[5,5,5,5],\"name\":\"HSpacer03437\",\"sizing_mode\":\"stretch_width\"},\"id\":\"2684\",\"type\":\"Spacer\"},{\"attributes\":{\"fill_alpha\":{\"value\":0.1},\"fill_color\":{\"value\":\"#30a2da\"},\"line_alpha\":{\"value\":0.1},\"top\":{\"field\":\"standard_deviation\"},\"width\":{\"value\":0.8},\"x\":{\"field\":\"index\"}},\"id\":\"2721\",\"type\":\"VBar\"},{\"attributes\":{\"fill_color\":{\"value\":\"#30a2da\"},\"top\":{\"field\":\"standard_deviation\"},\"width\":{\"value\":0.8},\"x\":{\"field\":\"index\"}},\"id\":\"2720\",\"type\":\"VBar\"},{\"attributes\":{},\"id\":\"2704\",\"type\":\"SaveTool\"},{\"attributes\":{},\"id\":\"2705\",\"type\":\"PanTool\"},{\"attributes\":{},\"id\":\"2730\",\"type\":\"AllLabels\"},{\"attributes\":{},\"id\":\"2708\",\"type\":\"ResetTool\"},{\"attributes\":{},\"id\":\"2706\",\"type\":\"WheelZoomTool\"},{\"attributes\":{\"axis\":{\"id\":\"2700\"},\"dimension\":1,\"grid_line_color\":null,\"ticker\":null},\"id\":\"2703\",\"type\":\"Grid\"},{\"attributes\":{},\"id\":\"2729\",\"type\":\"BasicTickFormatter\"},{\"attributes\":{\"below\":[{\"id\":\"2697\"}],\"center\":[{\"id\":\"2699\"},{\"id\":\"2703\"}],\"height\":300,\"left\":[{\"id\":\"2700\"}],\"margin\":[5,5,5,5],\"min_border_bottom\":10,\"min_border_left\":10,\"min_border_right\":10,\"min_border_top\":10,\"renderers\":[{\"id\":\"2723\"}],\"sizing_mode\":\"fixed\",\"title\":{\"id\":\"2689\"},\"toolbar\":{\"id\":\"2710\"},\"width\":700,\"x_range\":{\"id\":\"2685\"},\"x_scale\":{\"id\":\"2693\"},\"y_range\":{\"id\":\"2686\"},\"y_scale\":{\"id\":\"2695\"}},\"id\":\"2688\",\"subtype\":\"Figure\",\"type\":\"Plot\"},{\"attributes\":{\"overlay\":{\"id\":\"2709\"}},\"id\":\"2707\",\"type\":\"BoxZoomTool\"},{\"attributes\":{\"bottom_units\":\"screen\",\"fill_alpha\":0.5,\"fill_color\":\"lightgrey\",\"left_units\":\"screen\",\"level\":\"overlay\",\"line_alpha\":1.0,\"line_color\":\"black\",\"line_dash\":[4,4],\"line_width\":2,\"right_units\":\"screen\",\"syncable\":false,\"top_units\":\"screen\"},\"id\":\"2709\",\"type\":\"BoxAnnotation\"},{\"attributes\":{},\"id\":\"2701\",\"type\":\"BasicTicker\"},{\"attributes\":{\"margin\":[5,5,5,5],\"name\":\"HSpacer03438\",\"sizing_mode\":\"stretch_width\"},\"id\":\"2752\",\"type\":\"Spacer\"},{\"attributes\":{\"fill_alpha\":{\"value\":0.2},\"fill_color\":{\"value\":\"#30a2da\"},\"line_alpha\":{\"value\":0.2},\"top\":{\"field\":\"standard_deviation\"},\"width\":{\"value\":0.8},\"x\":{\"field\":\"index\"}},\"id\":\"2722\",\"type\":\"VBar\"},{\"attributes\":{\"data_source\":{\"id\":\"2717\"},\"glyph\":{\"id\":\"2720\"},\"hover_glyph\":null,\"muted_glyph\":{\"id\":\"2722\"},\"nonselection_glyph\":{\"id\":\"2721\"},\"selection_glyph\":{\"id\":\"2725\"},\"view\":{\"id\":\"2724\"}},\"id\":\"2723\",\"type\":\"GlyphRenderer\"},{\"attributes\":{\"text\":\"Standard Deviations of 10 Crypto\",\"text_color\":\"black\",\"text_font_size\":\"12pt\"},\"id\":\"2689\",\"type\":\"Title\"},{\"attributes\":{\"children\":[{\"id\":\"2684\"},{\"id\":\"2688\"},{\"id\":\"2752\"}],\"margin\":[0,0,0,0],\"name\":\"Row03433\",\"tags\":[\"embedded\"]},\"id\":\"2683\",\"type\":\"Row\"}],\"root_ids\":[\"2683\"]},\"title\":\"Bokeh Application\",\"version\":\"2.3.2\"}};\n",
       "    var render_items = [{\"docid\":\"52d8f981-fcde-4f8f-ae1a-609c91c19e26\",\"root_ids\":[\"2683\"],\"roots\":{\"2683\":\"c25992cc-a21c-4185-9fa6-034fd74fa8ab\"}}];\n",
       "    root.Bokeh.embed.embed_items_notebook(docs_json, render_items);\n",
       "  }\n",
       "  if (root.Bokeh !== undefined && root.Bokeh.Panel !== undefined) {\n",
       "    embed_document(root);\n",
       "  } else {\n",
       "    var attempts = 0;\n",
       "    var timer = setInterval(function(root) {\n",
       "      if (root.Bokeh !== undefined && root.Bokeh.Panel !== undefined) {\n",
       "        clearInterval(timer);\n",
       "        embed_document(root);\n",
       "      } else if (document.readyState == \"complete\") {\n",
       "        attempts++;\n",
       "        if (attempts > 200) {\n",
       "          clearInterval(timer);\n",
       "          console.log(\"Bokeh: ERROR: Unable to run BokehJS code because BokehJS library is missing\");\n",
       "        }\n",
       "      }\n",
       "    }, 25, root)\n",
       "  }\n",
       "})(window);</script>"
      ],
      "text/plain": [
       ":Bars   [index]   (standard deviation)"
      ]
     },
     "execution_count": 71,
     "metadata": {
      "application/vnd.holoviews_exec.v0+json": {
       "id": "2683"
      }
     },
     "output_type": "execute_result"
    }
   ],
   "source": [
    "crypto_std_df.hvplot.bar(title='Standard Deviations of 10 Crypto')"
   ]
  },
  {
   "cell_type": "code",
   "execution_count": 38,
   "metadata": {},
   "outputs": [],
   "source": [
    "# Make a dictionary, save the main key as the ticker, in the values save the std and the percent change series in nexted dictionaries"
   ]
  },
  {
   "cell_type": "code",
   "execution_count": 8,
   "metadata": {},
   "outputs": [],
   "source": [
    "# 0.0 -.057 Low\n",
    "# .057 - .073 Med\n",
    "# .073 - 1 High\n",
    "def sort_crypto_std(crypto_std):\n",
    "    # Returns a dictionary with all crypto std's sorted from low to high risk\n",
    "    high_risk = {}\n",
    "    med_risk = {}\n",
    "    low_risk = {}\n",
    "    for ticker, std in crypto_std.items():\n",
    "        if float(std) <= 0.057:\n",
    "            low_risk[ticker] = std\n",
    "        if float(std) > 0.057 and float(std) <= 0.073:\n",
    "            med_risk[ticker] = std\n",
    "        if float(std) > 0.073:\n",
    "            high_risk[ticker] = std\n",
    "\n",
    "\n",
    "    return {\"low\":low_risk, \"med\":med_risk, \"high\":high_risk}"
   ]
  },
  {
   "cell_type": "code",
   "execution_count": 9,
   "metadata": {},
   "outputs": [
    {
     "name": "stdout",
     "output_type": "stream",
     "text": [
      "Low Risk Cryptos - BTC:0.03938787125238744\n",
      "Low Risk Cryptos - ETH:0.05235430550261196\n",
      "Low Risk Cryptos - LTC:0.055032408494728645\n",
      "----------\n",
      "Medium Risk Cryptos - ADA:0.05993643980158168\n",
      "Medium Risk Cryptos - BNB:0.05977611996900103\n",
      "Medium Risk Cryptos - LINK:0.07157934652302073\n",
      "Medium Risk Cryptos - VET:0.06848841123396819\n",
      "Medium Risk Cryptos - XLM:0.06329186121298729\n",
      "Medium Risk Cryptos - XRP:0.06486879336788266\n",
      "----------\n",
      "High Risk Cryptos - DOT:0.08360492871492359\n"
     ]
    }
   ],
   "source": [
    "sorted_std = sort_crypto_std(crypto_std)\n",
    "for t,v in sorted_std['low'].items():\n",
    "    print(f\"Low Risk Cryptos - {t}:{v}\")\n",
    "print(\"----------\")\n",
    "for t,v in sorted_std['med'].items():\n",
    "    print(f\"Medium Risk Cryptos - {t}:{v}\")  \n",
    "print(\"----------\")\n",
    "for t,v in sorted_std['high'].items():\n",
    "    print(f\"High Risk Cryptos - {t}:{v}\")"
   ]
  },
  {
   "cell_type": "code",
   "execution_count": null,
   "metadata": {},
   "outputs": [],
   "source": []
  },
  {
   "cell_type": "code",
   "execution_count": 20,
   "metadata": {},
   "outputs": [],
   "source": [
    "cmc = crypto_market.cmc200(1)"
   ]
  },
  {
   "cell_type": "code",
   "execution_count": 16,
   "metadata": {},
   "outputs": [],
   "source": [
    "sp500 = sp500_index.sp500(1)"
   ]
  },
  {
   "cell_type": "code",
   "execution_count": 17,
   "metadata": {},
   "outputs": [
    {
     "data": {
      "text/html": [
       "<div>\n",
       "<style scoped>\n",
       "    .dataframe tbody tr th:only-of-type {\n",
       "        vertical-align: middle;\n",
       "    }\n",
       "\n",
       "    .dataframe tbody tr th {\n",
       "        vertical-align: top;\n",
       "    }\n",
       "\n",
       "    .dataframe thead th {\n",
       "        text-align: right;\n",
       "    }\n",
       "</style>\n",
       "<table border=\"1\" class=\"dataframe\">\n",
       "  <thead>\n",
       "    <tr style=\"text-align: right;\">\n",
       "      <th></th>\n",
       "      <th>SP500-close</th>\n",
       "    </tr>\n",
       "    <tr>\n",
       "      <th>Date</th>\n",
       "      <th></th>\n",
       "    </tr>\n",
       "  </thead>\n",
       "  <tbody>\n",
       "    <tr>\n",
       "      <th>2020-08-20</th>\n",
       "      <td>3385.510010</td>\n",
       "    </tr>\n",
       "    <tr>\n",
       "      <th>2020-08-21</th>\n",
       "      <td>3397.159912</td>\n",
       "    </tr>\n",
       "    <tr>\n",
       "      <th>2020-08-24</th>\n",
       "      <td>3431.280029</td>\n",
       "    </tr>\n",
       "    <tr>\n",
       "      <th>2020-08-25</th>\n",
       "      <td>3443.620117</td>\n",
       "    </tr>\n",
       "    <tr>\n",
       "      <th>2020-08-26</th>\n",
       "      <td>3478.729980</td>\n",
       "    </tr>\n",
       "    <tr>\n",
       "      <th>...</th>\n",
       "      <td>...</td>\n",
       "    </tr>\n",
       "    <tr>\n",
       "      <th>2021-08-13</th>\n",
       "      <td>4468.000000</td>\n",
       "    </tr>\n",
       "    <tr>\n",
       "      <th>2021-08-16</th>\n",
       "      <td>4472.939941</td>\n",
       "    </tr>\n",
       "    <tr>\n",
       "      <th>2021-08-17</th>\n",
       "      <td>4448.080078</td>\n",
       "    </tr>\n",
       "    <tr>\n",
       "      <th>2021-08-18</th>\n",
       "      <td>4400.270020</td>\n",
       "    </tr>\n",
       "    <tr>\n",
       "      <th>2021-08-19</th>\n",
       "      <td>4405.799805</td>\n",
       "    </tr>\n",
       "  </tbody>\n",
       "</table>\n",
       "<p>252 rows × 1 columns</p>\n",
       "</div>"
      ],
      "text/plain": [
       "            SP500-close\n",
       "Date                   \n",
       "2020-08-20  3385.510010\n",
       "2020-08-21  3397.159912\n",
       "2020-08-24  3431.280029\n",
       "2020-08-25  3443.620117\n",
       "2020-08-26  3478.729980\n",
       "...                 ...\n",
       "2021-08-13  4468.000000\n",
       "2021-08-16  4472.939941\n",
       "2021-08-17  4448.080078\n",
       "2021-08-18  4400.270020\n",
       "2021-08-19  4405.799805\n",
       "\n",
       "[252 rows x 1 columns]"
      ]
     },
     "execution_count": 17,
     "metadata": {},
     "output_type": "execute_result"
    }
   ],
   "source": [
    "sp500.columns =['SP500-close']\n",
    "sp500"
   ]
  },
  {
   "cell_type": "code",
   "execution_count": 21,
   "metadata": {},
   "outputs": [
    {
     "data": {
      "text/html": [
       "<div>\n",
       "<style scoped>\n",
       "    .dataframe tbody tr th:only-of-type {\n",
       "        vertical-align: middle;\n",
       "    }\n",
       "\n",
       "    .dataframe tbody tr th {\n",
       "        vertical-align: top;\n",
       "    }\n",
       "\n",
       "    .dataframe thead th {\n",
       "        text-align: right;\n",
       "    }\n",
       "</style>\n",
       "<table border=\"1\" class=\"dataframe\">\n",
       "  <thead>\n",
       "    <tr style=\"text-align: right;\">\n",
       "      <th></th>\n",
       "      <th>CMC_close</th>\n",
       "    </tr>\n",
       "    <tr>\n",
       "      <th>Date</th>\n",
       "      <th></th>\n",
       "    </tr>\n",
       "  </thead>\n",
       "  <tbody>\n",
       "    <tr>\n",
       "      <th>2020-08-20</th>\n",
       "      <td>262.244995</td>\n",
       "    </tr>\n",
       "    <tr>\n",
       "      <th>2020-08-21</th>\n",
       "      <td>253.847000</td>\n",
       "    </tr>\n",
       "    <tr>\n",
       "      <th>2020-08-24</th>\n",
       "      <td>259.174011</td>\n",
       "    </tr>\n",
       "    <tr>\n",
       "      <th>2020-08-25</th>\n",
       "      <td>247.363007</td>\n",
       "    </tr>\n",
       "    <tr>\n",
       "      <th>2020-08-26</th>\n",
       "      <td>251.794998</td>\n",
       "    </tr>\n",
       "    <tr>\n",
       "      <th>...</th>\n",
       "      <td>...</td>\n",
       "    </tr>\n",
       "    <tr>\n",
       "      <th>2021-08-13</th>\n",
       "      <td>1188.456055</td>\n",
       "    </tr>\n",
       "    <tr>\n",
       "      <th>2021-08-16</th>\n",
       "      <td>1169.593994</td>\n",
       "    </tr>\n",
       "    <tr>\n",
       "      <th>2021-08-17</th>\n",
       "      <td>1118.203979</td>\n",
       "    </tr>\n",
       "    <tr>\n",
       "      <th>2021-08-18</th>\n",
       "      <td>1124.413940</td>\n",
       "    </tr>\n",
       "    <tr>\n",
       "      <th>2021-08-19</th>\n",
       "      <td>1172.947021</td>\n",
       "    </tr>\n",
       "  </tbody>\n",
       "</table>\n",
       "<p>242 rows × 1 columns</p>\n",
       "</div>"
      ],
      "text/plain": [
       "              CMC_close\n",
       "Date                   \n",
       "2020-08-20   262.244995\n",
       "2020-08-21   253.847000\n",
       "2020-08-24   259.174011\n",
       "2020-08-25   247.363007\n",
       "2020-08-26   251.794998\n",
       "...                 ...\n",
       "2021-08-13  1188.456055\n",
       "2021-08-16  1169.593994\n",
       "2021-08-17  1118.203979\n",
       "2021-08-18  1124.413940\n",
       "2021-08-19  1172.947021\n",
       "\n",
       "[242 rows x 1 columns]"
      ]
     },
     "execution_count": 21,
     "metadata": {},
     "output_type": "execute_result"
    }
   ],
   "source": [
    "cmc.columns = ['CMC_close']\n",
    "cmc"
   ]
  },
  {
   "cell_type": "code",
   "execution_count": 22,
   "metadata": {},
   "outputs": [
    {
     "data": {
      "text/html": [
       "<div>\n",
       "<style scoped>\n",
       "    .dataframe tbody tr th:only-of-type {\n",
       "        vertical-align: middle;\n",
       "    }\n",
       "\n",
       "    .dataframe tbody tr th {\n",
       "        vertical-align: top;\n",
       "    }\n",
       "\n",
       "    .dataframe thead th {\n",
       "        text-align: right;\n",
       "    }\n",
       "</style>\n",
       "<table border=\"1\" class=\"dataframe\">\n",
       "  <thead>\n",
       "    <tr style=\"text-align: right;\">\n",
       "      <th></th>\n",
       "      <th>SP500-close</th>\n",
       "      <th>CMC_close</th>\n",
       "    </tr>\n",
       "    <tr>\n",
       "      <th>Date</th>\n",
       "      <th></th>\n",
       "      <th></th>\n",
       "    </tr>\n",
       "  </thead>\n",
       "  <tbody>\n",
       "    <tr>\n",
       "      <th>2020-08-20</th>\n",
       "      <td>3385.510010</td>\n",
       "      <td>262.244995</td>\n",
       "    </tr>\n",
       "    <tr>\n",
       "      <th>2020-08-21</th>\n",
       "      <td>3397.159912</td>\n",
       "      <td>253.847000</td>\n",
       "    </tr>\n",
       "    <tr>\n",
       "      <th>2020-08-24</th>\n",
       "      <td>3431.280029</td>\n",
       "      <td>259.174011</td>\n",
       "    </tr>\n",
       "    <tr>\n",
       "      <th>2020-08-25</th>\n",
       "      <td>3443.620117</td>\n",
       "      <td>247.363007</td>\n",
       "    </tr>\n",
       "    <tr>\n",
       "      <th>2020-08-26</th>\n",
       "      <td>3478.729980</td>\n",
       "      <td>251.794998</td>\n",
       "    </tr>\n",
       "    <tr>\n",
       "      <th>...</th>\n",
       "      <td>...</td>\n",
       "      <td>...</td>\n",
       "    </tr>\n",
       "    <tr>\n",
       "      <th>2021-08-13</th>\n",
       "      <td>4468.000000</td>\n",
       "      <td>1188.456055</td>\n",
       "    </tr>\n",
       "    <tr>\n",
       "      <th>2021-08-16</th>\n",
       "      <td>4472.939941</td>\n",
       "      <td>1169.593994</td>\n",
       "    </tr>\n",
       "    <tr>\n",
       "      <th>2021-08-17</th>\n",
       "      <td>4448.080078</td>\n",
       "      <td>1118.203979</td>\n",
       "    </tr>\n",
       "    <tr>\n",
       "      <th>2021-08-18</th>\n",
       "      <td>4400.270020</td>\n",
       "      <td>1124.413940</td>\n",
       "    </tr>\n",
       "    <tr>\n",
       "      <th>2021-08-19</th>\n",
       "      <td>4405.799805</td>\n",
       "      <td>1172.947021</td>\n",
       "    </tr>\n",
       "  </tbody>\n",
       "</table>\n",
       "<p>242 rows × 2 columns</p>\n",
       "</div>"
      ],
      "text/plain": [
       "            SP500-close    CMC_close\n",
       "Date                                \n",
       "2020-08-20  3385.510010   262.244995\n",
       "2020-08-21  3397.159912   253.847000\n",
       "2020-08-24  3431.280029   259.174011\n",
       "2020-08-25  3443.620117   247.363007\n",
       "2020-08-26  3478.729980   251.794998\n",
       "...                 ...          ...\n",
       "2021-08-13  4468.000000  1188.456055\n",
       "2021-08-16  4472.939941  1169.593994\n",
       "2021-08-17  4448.080078  1118.203979\n",
       "2021-08-18  4400.270020  1124.413940\n",
       "2021-08-19  4405.799805  1172.947021\n",
       "\n",
       "[242 rows x 2 columns]"
      ]
     },
     "execution_count": 22,
     "metadata": {},
     "output_type": "execute_result"
    }
   ],
   "source": [
    "index = pd.concat([sp500, cmc], axis=1)\n",
    "index.dropna(inplace=True)\n",
    "index"
   ]
  },
  {
   "cell_type": "code",
   "execution_count": 31,
   "metadata": {},
   "outputs": [],
   "source": [
    "# plot_cmc = cmc.hvplot.line(title='CMC200 Index', rot=90)"
   ]
  },
  {
   "cell_type": "code",
   "execution_count": 32,
   "metadata": {},
   "outputs": [],
   "source": [
    "# plot_snp = snp_index.hvplot.line(title='SNP 500 Index', rot=90)"
   ]
  },
  {
   "cell_type": "code",
   "execution_count": 38,
   "metadata": {},
   "outputs": [],
   "source": [
    "# overlay_index = plot_cmc * plot_snp\n",
    "# overlay_index.opts(\n",
    "#     height=500,\n",
    "#     width=1000,\n",
    "#     xlabel='Return',\n",
    "#     ylabel='Date',\n",
    "#     title='Index Overlayed')"
   ]
  },
  {
   "cell_type": "code",
   "execution_count": 34,
   "metadata": {},
   "outputs": [],
   "source": [
    "plot = index.hvplot.line(title='CMC200 and S&P500 Overlayed')"
   ]
  },
  {
   "cell_type": "code",
   "execution_count": 35,
   "metadata": {},
   "outputs": [
    {
     "name": "stdout",
     "output_type": "stream",
     "text": [
      "Launching server at http://localhost:60099\n"
     ]
    }
   ],
   "source": [
    "hvplot.show(plot)"
   ]
  },
  {
   "cell_type": "code",
   "execution_count": 27,
   "metadata": {},
   "outputs": [
    {
     "data": {
      "text/html": [
       "<div>\n",
       "<style scoped>\n",
       "    .dataframe tbody tr th:only-of-type {\n",
       "        vertical-align: middle;\n",
       "    }\n",
       "\n",
       "    .dataframe tbody tr th {\n",
       "        vertical-align: top;\n",
       "    }\n",
       "\n",
       "    .dataframe thead th {\n",
       "        text-align: right;\n",
       "    }\n",
       "</style>\n",
       "<table border=\"1\" class=\"dataframe\">\n",
       "  <thead>\n",
       "    <tr style=\"text-align: right;\">\n",
       "      <th></th>\n",
       "      <th>SP500-close</th>\n",
       "      <th>CMC_close</th>\n",
       "    </tr>\n",
       "    <tr>\n",
       "      <th>Date</th>\n",
       "      <th></th>\n",
       "      <th></th>\n",
       "    </tr>\n",
       "  </thead>\n",
       "  <tbody>\n",
       "    <tr>\n",
       "      <th>2020-10-02</th>\n",
       "      <td>3387.842676</td>\n",
       "      <td>235.243468</td>\n",
       "    </tr>\n",
       "    <tr>\n",
       "      <th>2020-10-05</th>\n",
       "      <td>3388.612345</td>\n",
       "      <td>233.859968</td>\n",
       "    </tr>\n",
       "    <tr>\n",
       "      <th>2020-10-06</th>\n",
       "      <td>3387.406014</td>\n",
       "      <td>232.599635</td>\n",
       "    </tr>\n",
       "    <tr>\n",
       "      <th>2020-10-07</th>\n",
       "      <td>3387.011344</td>\n",
       "      <td>231.208935</td>\n",
       "    </tr>\n",
       "    <tr>\n",
       "      <th>2020-10-08</th>\n",
       "      <td>3387.118343</td>\n",
       "      <td>230.384667</td>\n",
       "    </tr>\n",
       "    <tr>\n",
       "      <th>...</th>\n",
       "      <td>...</td>\n",
       "      <td>...</td>\n",
       "    </tr>\n",
       "    <tr>\n",
       "      <th>2021-08-13</th>\n",
       "      <td>4387.898649</td>\n",
       "      <td>904.615306</td>\n",
       "    </tr>\n",
       "    <tr>\n",
       "      <th>2021-08-16</th>\n",
       "      <td>4391.918652</td>\n",
       "      <td>916.370140</td>\n",
       "    </tr>\n",
       "    <tr>\n",
       "      <th>2021-08-17</th>\n",
       "      <td>4395.403320</td>\n",
       "      <td>925.206038</td>\n",
       "    </tr>\n",
       "    <tr>\n",
       "      <th>2021-08-18</th>\n",
       "      <td>4396.807992</td>\n",
       "      <td>933.636336</td>\n",
       "    </tr>\n",
       "    <tr>\n",
       "      <th>2021-08-19</th>\n",
       "      <td>4399.640658</td>\n",
       "      <td>945.530670</td>\n",
       "    </tr>\n",
       "  </tbody>\n",
       "</table>\n",
       "<p>213 rows × 2 columns</p>\n",
       "</div>"
      ],
      "text/plain": [
       "            SP500-close   CMC_close\n",
       "Date                               \n",
       "2020-10-02  3387.842676  235.243468\n",
       "2020-10-05  3388.612345  233.859968\n",
       "2020-10-06  3387.406014  232.599635\n",
       "2020-10-07  3387.011344  231.208935\n",
       "2020-10-08  3387.118343  230.384667\n",
       "...                 ...         ...\n",
       "2021-08-13  4387.898649  904.615306\n",
       "2021-08-16  4391.918652  916.370140\n",
       "2021-08-17  4395.403320  925.206038\n",
       "2021-08-18  4396.807992  933.636336\n",
       "2021-08-19  4399.640658  945.530670\n",
       "\n",
       "[213 rows x 2 columns]"
      ]
     },
     "execution_count": 27,
     "metadata": {},
     "output_type": "execute_result"
    }
   ],
   "source": [
    "sp_cmc = index.rolling(window=30).mean().dropna()\n",
    "sp_cmc"
   ]
  },
  {
   "cell_type": "code",
   "execution_count": 28,
   "metadata": {},
   "outputs": [
    {
     "data": {},
     "metadata": {},
     "output_type": "display_data"
    },
    {
     "data": {
      "application/vnd.holoviews_exec.v0+json": "",
      "text/html": [
       "<div id='1449'>\n",
       "\n",
       "\n",
       "\n",
       "\n",
       "\n",
       "  <div class=\"bk-root\" id=\"b4ddc0e5-c6c0-4dde-9e09-61cd4ebe55df\" data-root-id=\"1449\"></div>\n",
       "</div>\n",
       "<script type=\"application/javascript\">(function(root) {\n",
       "  function embed_document(root) {\n",
       "    var docs_json = {\"72857f7d-7d53-465a-beb2-b20fb55ea911\":{\"defs\":[{\"extends\":null,\"module\":null,\"name\":\"ReactiveHTML1\",\"overrides\":[],\"properties\":[]},{\"extends\":null,\"module\":null,\"name\":\"FlexBox1\",\"overrides\":[],\"properties\":[{\"default\":\"flex-start\",\"kind\":null,\"name\":\"align_content\"},{\"default\":\"flex-start\",\"kind\":null,\"name\":\"align_items\"},{\"default\":\"row\",\"kind\":null,\"name\":\"flex_direction\"},{\"default\":\"wrap\",\"kind\":null,\"name\":\"flex_wrap\"},{\"default\":\"flex-start\",\"kind\":null,\"name\":\"justify_content\"}]},{\"extends\":null,\"module\":null,\"name\":\"TemplateActions1\",\"overrides\":[],\"properties\":[{\"default\":0,\"kind\":null,\"name\":\"open_modal\"},{\"default\":0,\"kind\":null,\"name\":\"close_modal\"}]},{\"extends\":null,\"module\":null,\"name\":\"MaterialTemplateActions1\",\"overrides\":[],\"properties\":[{\"default\":0,\"kind\":null,\"name\":\"open_modal\"},{\"default\":0,\"kind\":null,\"name\":\"close_modal\"}]}],\"roots\":{\"references\":[{\"attributes\":{\"line_color\":\"#fc4f30\",\"line_width\":2,\"x\":{\"field\":\"Date\"},\"y\":{\"field\":\"value\"}},\"id\":\"1557\",\"type\":\"Line\"},{\"attributes\":{\"days\":[1,15]},\"id\":\"1512\",\"type\":\"DaysTicker\"},{\"attributes\":{\"margin\":[5,5,5,5],\"name\":\"HSpacer02098\",\"sizing_mode\":\"stretch_width\"},\"id\":\"1450\",\"type\":\"Spacer\"},{\"attributes\":{},\"id\":\"1460\",\"type\":\"LinearScale\"},{\"attributes\":{},\"id\":\"1476\",\"type\":\"ResetTool\"},{\"attributes\":{\"months\":[0,1,2,3,4,5,6,7,8,9,10,11]},\"id\":\"1513\",\"type\":\"MonthsTicker\"},{\"attributes\":{\"margin\":[5,5,5,5],\"name\":\"HSpacer02099\",\"sizing_mode\":\"stretch_width\"},\"id\":\"1774\",\"type\":\"Spacer\"},{\"attributes\":{\"months\":[0,2,4,6,8,10]},\"id\":\"1514\",\"type\":\"MonthsTicker\"},{\"attributes\":{\"num_minor_ticks\":5,\"tickers\":[{\"id\":\"1506\"},{\"id\":\"1507\"},{\"id\":\"1508\"},{\"id\":\"1509\"},{\"id\":\"1510\"},{\"id\":\"1511\"},{\"id\":\"1512\"},{\"id\":\"1513\"},{\"id\":\"1514\"},{\"id\":\"1515\"},{\"id\":\"1516\"},{\"id\":\"1517\"}]},\"id\":\"1465\",\"type\":\"DatetimeTicker\"},{\"attributes\":{},\"id\":\"1462\",\"type\":\"LinearScale\"},{\"attributes\":{\"axis_label\":\"\",\"formatter\":{\"id\":\"1488\"},\"major_label_policy\":{\"id\":\"1489\"},\"ticker\":{\"id\":\"1469\"}},\"id\":\"1468\",\"type\":\"LinearAxis\"},{\"attributes\":{\"callback\":null,\"formatters\":{\"@{Date}\":\"datetime\"},\"renderers\":[{\"id\":\"1497\"},{\"id\":\"1530\"}],\"tags\":[\"hv_created\"],\"tooltips\":[[\"Variable\",\"@{Variable}\"],[\"Date\",\"@{Date}{%F %T}\"],[\"value\",\"@{value}\"]]},\"id\":\"1453\",\"type\":\"HoverTool\"},{\"attributes\":{\"line_color\":\"#30a2da\",\"line_width\":2,\"x\":{\"field\":\"Date\"},\"y\":{\"field\":\"value\"}},\"id\":\"1494\",\"type\":\"Line\"},{\"attributes\":{\"months\":[0,4,8]},\"id\":\"1515\",\"type\":\"MonthsTicker\"},{\"attributes\":{\"axis\":{\"id\":\"1464\"},\"grid_line_color\":null,\"ticker\":null},\"id\":\"1467\",\"type\":\"Grid\"},{\"attributes\":{\"data_source\":{\"id\":\"1491\"},\"glyph\":{\"id\":\"1494\"},\"hover_glyph\":null,\"muted_glyph\":{\"id\":\"1496\"},\"nonselection_glyph\":{\"id\":\"1495\"},\"selection_glyph\":{\"id\":\"1523\"},\"view\":{\"id\":\"1498\"}},\"id\":\"1497\",\"type\":\"GlyphRenderer\"},{\"attributes\":{},\"id\":\"1525\",\"type\":\"Selection\"},{\"attributes\":{\"children\":[{\"id\":\"1450\"},{\"id\":\"1455\"},{\"id\":\"1774\"}],\"margin\":[0,0,0,0],\"name\":\"Row02094\",\"tags\":[\"embedded\"]},\"id\":\"1449\",\"type\":\"Row\"},{\"attributes\":{\"data_source\":{\"id\":\"1524\"},\"glyph\":{\"id\":\"1527\"},\"hover_glyph\":null,\"muted_glyph\":{\"id\":\"1529\"},\"nonselection_glyph\":{\"id\":\"1528\"},\"selection_glyph\":{\"id\":\"1557\"},\"view\":{\"id\":\"1531\"}},\"id\":\"1530\",\"type\":\"GlyphRenderer\"},{\"attributes\":{\"line_alpha\":0.1,\"line_color\":\"#30a2da\",\"line_width\":2,\"x\":{\"field\":\"Date\"},\"y\":{\"field\":\"value\"}},\"id\":\"1495\",\"type\":\"Line\"},{\"attributes\":{\"months\":[0,6]},\"id\":\"1516\",\"type\":\"MonthsTicker\"},{\"attributes\":{},\"id\":\"1469\",\"type\":\"BasicTicker\"},{\"attributes\":{\"axis\":{\"id\":\"1468\"},\"dimension\":1,\"grid_line_color\":null,\"ticker\":null},\"id\":\"1471\",\"type\":\"Grid\"},{\"attributes\":{\"active_multi\":null,\"tools\":[{\"id\":\"1453\"},{\"id\":\"1472\"},{\"id\":\"1473\"},{\"id\":\"1474\"},{\"id\":\"1475\"},{\"id\":\"1476\"}]},\"id\":\"1478\",\"type\":\"Toolbar\"},{\"attributes\":{\"line_alpha\":0.2,\"line_color\":\"#30a2da\",\"line_width\":2,\"x\":{\"field\":\"Date\"},\"y\":{\"field\":\"value\"}},\"id\":\"1496\",\"type\":\"Line\"},{\"attributes\":{},\"id\":\"1488\",\"type\":\"BasicTickFormatter\"},{\"attributes\":{},\"id\":\"1489\",\"type\":\"AllLabels\"},{\"attributes\":{\"line_alpha\":0.1,\"line_color\":\"#fc4f30\",\"line_width\":2,\"x\":{\"field\":\"Date\"},\"y\":{\"field\":\"value\"}},\"id\":\"1528\",\"type\":\"Line\"},{\"attributes\":{\"axis_label\":\"Date\",\"formatter\":{\"id\":\"1485\"},\"major_label_policy\":{\"id\":\"1486\"},\"ticker\":{\"id\":\"1465\"}},\"id\":\"1464\",\"type\":\"DatetimeAxis\"},{\"attributes\":{\"source\":{\"id\":\"1524\"}},\"id\":\"1531\",\"type\":\"CDSView\"},{\"attributes\":{\"base\":60,\"mantissas\":[1,2,5,10,15,20,30],\"max_interval\":1800000.0,\"min_interval\":1000.0,\"num_minor_ticks\":0},\"id\":\"1507\",\"type\":\"AdaptiveTicker\"},{\"attributes\":{\"end\":1629331200000.0,\"reset_end\":1629331200000.0,\"reset_start\":1601596800000.0,\"start\":1601596800000.0,\"tags\":[[[\"Date\",\"Date\",null]]]},\"id\":\"1451\",\"type\":\"Range1d\"},{\"attributes\":{},\"id\":\"1486\",\"type\":\"AllLabels\"},{\"attributes\":{\"data\":{\"Date\":{\"__ndarray__\":\"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\",\"dtype\":\"float64\",\"order\":\"little\",\"shape\":[213]},\"Variable\":[\"SP500-close\",\"SP500-close\",\"SP500-close\",\"SP500-close\",\"SP500-close\",\"SP500-close\",\"SP500-close\",\"SP500-close\",\"SP500-close\",\"SP500-close\",\"SP500-close\",\"SP500-close\",\"SP500-close\",\"SP500-close\",\"SP500-close\",\"SP500-close\",\"SP500-close\",\"SP500-close\",\"SP500-close\",\"SP500-close\",\"SP500-close\",\"SP500-close\",\"SP500-close\",\"SP500-close\",\"SP500-close\",\"SP500-close\",\"SP500-close\",\"SP500-close\",\"SP500-close\",\"SP500-close\",\"SP500-close\",\"SP500-close\",\"SP500-close\",\"SP500-close\",\"SP500-close\",\"SP500-close\",\"SP500-close\",\"SP500-close\",\"SP500-close\",\"SP500-close\",\"SP500-close\",\"SP500-close\",\"SP500-close\",\"SP500-close\",\"SP500-close\",\"SP500-close\",\"SP500-close\",\"SP500-close\",\"SP500-close\",\"SP500-close\",\"SP500-close\",\"SP500-close\",\"SP500-close\",\"SP500-close\",\"SP500-close\",\"SP500-close\",\"SP500-close\",\"SP500-close\",\"SP500-close\",\"SP500-close\",\"SP500-close\",\"SP500-close\",\"SP500-close\",\"SP500-close\",\"SP500-close\",\"SP500-close\",\"SP500-close\",\"SP500-close\",\"SP500-close\",\"SP500-close\",\"SP500-close\",\"SP500-close\",\"SP500-close\",\"SP500-close\",\"SP500-close\",\"SP500-close\",\"SP500-close\",\"SP500-close\",\"SP500-close\",\"SP500-close\",\"SP500-close\",\"SP500-close\",\"SP500-close\",\"SP500-close\",\"SP500-close\",\"SP500-close\",\"SP500-close\",\"SP500-close\",\"SP500-close\",\"SP500-close\",\"SP500-close\",\"SP500-close\",\"SP500-close\",\"SP500-close\",\"SP500-close\",\"SP500-close\",\"SP500-close\",\"SP500-close\",\"SP500-close\",\"SP500-close\",\"SP500-close\",\"SP500-close\",\"SP500-close\",\"SP500-close\",\"SP500-close\",\"SP500-close\",\"SP500-close\",\"SP500-close\",\"SP500-close\",\"SP500-close\",\"SP500-close\",\"SP500-close\",\"SP500-close\",\"SP500-close\",\"SP500-close\",\"SP500-close\",\"SP500-close\",\"SP500-close\",\"SP500-close\",\"SP500-close\",\"SP500-close\",\"SP500-close\",\"SP500-close\",\"SP500-close\",\"SP500-close\",\"SP500-close\",\"SP500-close\",\"SP500-close\",\"SP500-close\",\"SP500-close\",\"SP500-close\",\"SP500-close\",\"SP500-close\",\"SP500-close\",\"SP500-close\",\"SP500-close\",\"SP500-close\",\"SP500-close\",\"SP500-close\",\"SP500-close\",\"SP500-close\",\"SP500-close\",\"SP500-close\",\"SP500-close\",\"SP500-close\",\"SP500-close\",\"SP500-close\",\"SP500-close\",\"SP500-close\",\"SP500-close\",\"SP500-close\",\"SP500-close\",\"SP500-close\",\"SP500-close\",\"SP500-close\",\"SP500-close\",\"SP500-close\",\"SP500-close\",\"SP500-close\",\"SP500-close\",\"SP500-close\",\"SP500-close\",\"SP500-close\",\"SP500-close\",\"SP500-close\",\"SP500-close\",\"SP500-close\",\"SP500-close\",\"SP500-close\",\"SP500-close\",\"SP500-close\",\"SP500-close\",\"SP500-close\",\"SP500-close\",\"SP500-close\",\"SP500-close\",\"SP500-close\",\"SP500-close\",\"SP500-close\",\"SP500-close\",\"SP500-close\",\"SP500-close\",\"SP500-close\",\"SP500-close\",\"SP500-close\",\"SP500-close\",\"SP500-close\",\"SP500-close\",\"SP500-close\",\"SP500-close\",\"SP500-close\",\"SP500-close\",\"SP500-close\",\"SP500-close\",\"SP500-close\",\"SP500-close\",\"SP500-close\",\"SP500-close\",\"SP500-close\",\"SP500-close\",\"SP500-close\",\"SP500-close\",\"SP500-close\",\"SP500-close\",\"SP500-close\",\"SP500-close\",\"SP500-close\",\"SP500-close\",\"SP500-close\",\"SP500-close\",\"SP500-close\",\"SP500-close\",\"SP500-close\"],\"value\":{\"__ndarray__\":\"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\",\"dtype\":\"float64\",\"order\":\"little\",\"shape\":[213]}},\"selected\":{\"id\":\"1492\"},\"selection_policy\":{\"id\":\"1519\"}},\"id\":\"1491\",\"type\":\"ColumnDataSource\"},{\"attributes\":{\"source\":{\"id\":\"1491\"}},\"id\":\"1498\",\"type\":\"CDSView\"},{\"attributes\":{},\"id\":\"1517\",\"type\":\"YearsTicker\"},{\"attributes\":{},\"id\":\"1519\",\"type\":\"UnionRenderers\"},{\"attributes\":{},\"id\":\"1554\",\"type\":\"UnionRenderers\"},{\"attributes\":{\"label\":{\"value\":\"CMC_close\"},\"renderers\":[{\"id\":\"1530\"}]},\"id\":\"1556\",\"type\":\"LegendItem\"},{\"attributes\":{\"line_color\":\"#fc4f30\",\"line_width\":2,\"x\":{\"field\":\"Date\"},\"y\":{\"field\":\"value\"}},\"id\":\"1527\",\"type\":\"Line\"},{\"attributes\":{\"mantissas\":[1,2,5],\"max_interval\":500.0,\"num_minor_ticks\":0},\"id\":\"1506\",\"type\":\"AdaptiveTicker\"},{\"attributes\":{\"line_alpha\":0.2,\"line_color\":\"#fc4f30\",\"line_width\":2,\"x\":{\"field\":\"Date\"},\"y\":{\"field\":\"value\"}},\"id\":\"1529\",\"type\":\"Line\"},{\"attributes\":{\"data\":{\"Date\":{\"__ndarray__\":\"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\",\"dtype\":\"float64\",\"order\":\"little\",\"shape\":[213]},\"Variable\":[\"CMC_close\",\"CMC_close\",\"CMC_close\",\"CMC_close\",\"CMC_close\",\"CMC_close\",\"CMC_close\",\"CMC_close\",\"CMC_close\",\"CMC_close\",\"CMC_close\",\"CMC_close\",\"CMC_close\",\"CMC_close\",\"CMC_close\",\"CMC_close\",\"CMC_close\",\"CMC_close\",\"CMC_close\",\"CMC_close\",\"CMC_close\",\"CMC_close\",\"CMC_close\",\"CMC_close\",\"CMC_close\",\"CMC_close\",\"CMC_close\",\"CMC_close\",\"CMC_close\",\"CMC_close\",\"CMC_close\",\"CMC_close\",\"CMC_close\",\"CMC_close\",\"CMC_close\",\"CMC_close\",\"CMC_close\",\"CMC_close\",\"CMC_close\",\"CMC_close\",\"CMC_close\",\"CMC_close\",\"CMC_close\",\"CMC_close\",\"CMC_close\",\"CMC_close\",\"CMC_close\",\"CMC_close\",\"CMC_close\",\"CMC_close\",\"CMC_close\",\"CMC_close\",\"CMC_close\",\"CMC_close\",\"CMC_close\",\"CMC_close\",\"CMC_close\",\"CMC_close\",\"CMC_close\",\"CMC_close\",\"CMC_close\",\"CMC_close\",\"CMC_close\",\"CMC_close\",\"CMC_close\",\"CMC_close\",\"CMC_close\",\"CMC_close\",\"CMC_close\",\"CMC_close\",\"CMC_close\",\"CMC_close\",\"CMC_close\",\"CMC_close\",\"CMC_close\",\"CMC_close\",\"CMC_close\",\"CMC_close\",\"CMC_close\",\"CMC_close\",\"CMC_close\",\"CMC_close\",\"CMC_close\",\"CMC_close\",\"CMC_close\",\"CMC_close\",\"CMC_close\",\"CMC_close\",\"CMC_close\",\"CMC_close\",\"CMC_close\",\"CMC_close\",\"CMC_close\",\"CMC_close\",\"CMC_close\",\"CMC_close\",\"CMC_close\",\"CMC_close\",\"CMC_close\",\"CMC_close\",\"CMC_close\",\"CMC_close\",\"CMC_close\",\"CMC_close\",\"CMC_close\",\"CMC_close\",\"CMC_close\",\"CMC_close\",\"CMC_close\",\"CMC_close\",\"CMC_close\",\"CMC_close\",\"CMC_close\",\"CMC_close\",\"CMC_close\",\"CMC_close\",\"CMC_close\",\"CMC_close\",\"CMC_close\",\"CMC_close\",\"CMC_close\",\"CMC_close\",\"CMC_close\",\"CMC_close\",\"CMC_close\",\"CMC_close\",\"CMC_close\",\"CMC_close\",\"CMC_close\",\"CMC_close\",\"CMC_close\",\"CMC_close\",\"CMC_close\",\"CMC_close\",\"CMC_close\",\"CMC_close\",\"CMC_close\",\"CMC_close\",\"CMC_close\",\"CMC_close\",\"CMC_close\",\"CMC_close\",\"CMC_close\",\"CMC_close\",\"CMC_close\",\"CMC_close\",\"CMC_close\",\"CMC_close\",\"CMC_close\",\"CMC_close\",\"CMC_close\",\"CMC_close\",\"CMC_close\",\"CMC_close\",\"CMC_close\",\"CMC_close\",\"CMC_close\",\"CMC_close\",\"CMC_close\",\"CMC_close\",\"CMC_close\",\"CMC_close\",\"CMC_close\",\"CMC_close\",\"CMC_close\",\"CMC_close\",\"CMC_close\",\"CMC_close\",\"CMC_close\",\"CMC_close\",\"CMC_close\",\"CMC_close\",\"CMC_close\",\"CMC_close\",\"CMC_close\",\"CMC_close\",\"CMC_close\",\"CMC_close\",\"CMC_close\",\"CMC_close\",\"CMC_close\",\"CMC_close\",\"CMC_close\",\"CMC_close\",\"CMC_close\",\"CMC_close\",\"CMC_close\",\"CMC_close\",\"CMC_close\",\"CMC_close\",\"CMC_close\",\"CMC_close\",\"CMC_close\",\"CMC_close\",\"CMC_close\",\"CMC_close\",\"CMC_close\",\"CMC_close\",\"CMC_close\",\"CMC_close\",\"CMC_close\",\"CMC_close\",\"CMC_close\",\"CMC_close\",\"CMC_close\",\"CMC_close\",\"CMC_close\",\"CMC_close\",\"CMC_close\",\"CMC_close\",\"CMC_close\",\"CMC_close\",\"CMC_close\"],\"value\":{\"__ndarray__\":\"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\",\"dtype\":\"float64\",\"order\":\"little\",\"shape\":[213]}},\"selected\":{\"id\":\"1525\"},\"selection_policy\":{\"id\":\"1554\"}},\"id\":\"1524\",\"type\":\"ColumnDataSource\"},{\"attributes\":{\"days\":[1,2,3,4,5,6,7,8,9,10,11,12,13,14,15,16,17,18,19,20,21,22,23,24,25,26,27,28,29,30,31]},\"id\":\"1509\",\"type\":\"DaysTicker\"},{\"attributes\":{\"base\":24,\"mantissas\":[1,2,4,6,8,12],\"max_interval\":43200000.0,\"min_interval\":3600000.0,\"num_minor_ticks\":0},\"id\":\"1508\",\"type\":\"AdaptiveTicker\"},{\"attributes\":{\"click_policy\":\"mute\",\"items\":[{\"id\":\"1522\"},{\"id\":\"1556\"}],\"location\":[0,0],\"title\":\"Variable\"},\"id\":\"1521\",\"type\":\"Legend\"},{\"attributes\":{\"end\":4816.9660932413735,\"reset_end\":4816.9660932413735,\"reset_start\":-190.93913503011063,\"start\":-190.93913503011063,\"tags\":[[[\"value\",\"value\",null]]]},\"id\":\"1452\",\"type\":\"Range1d\"},{\"attributes\":{},\"id\":\"1472\",\"type\":\"SaveTool\"},{\"attributes\":{\"label\":{\"value\":\"SP500-close\"},\"renderers\":[{\"id\":\"1497\"}]},\"id\":\"1522\",\"type\":\"LegendItem\"},{\"attributes\":{},\"id\":\"1473\",\"type\":\"PanTool\"},{\"attributes\":{\"days\":[1,4,7,10,13,16,19,22,25,28]},\"id\":\"1510\",\"type\":\"DaysTicker\"},{\"attributes\":{\"days\":[1,8,15,22]},\"id\":\"1511\",\"type\":\"DaysTicker\"},{\"attributes\":{\"text\":\"CMC200 and S&P500 Overlayed\",\"text_color\":\"black\",\"text_font_size\":\"12pt\"},\"id\":\"1456\",\"type\":\"Title\"},{\"attributes\":{},\"id\":\"1485\",\"type\":\"DatetimeTickFormatter\"},{\"attributes\":{},\"id\":\"1474\",\"type\":\"WheelZoomTool\"},{\"attributes\":{\"overlay\":{\"id\":\"1477\"}},\"id\":\"1475\",\"type\":\"BoxZoomTool\"},{\"attributes\":{\"bottom_units\":\"screen\",\"fill_alpha\":0.5,\"fill_color\":\"lightgrey\",\"left_units\":\"screen\",\"level\":\"overlay\",\"line_alpha\":1.0,\"line_color\":\"black\",\"line_dash\":[4,4],\"line_width\":2,\"right_units\":\"screen\",\"syncable\":false,\"top_units\":\"screen\"},\"id\":\"1477\",\"type\":\"BoxAnnotation\"},{\"attributes\":{},\"id\":\"1492\",\"type\":\"Selection\"},{\"attributes\":{\"below\":[{\"id\":\"1464\"}],\"center\":[{\"id\":\"1467\"},{\"id\":\"1471\"}],\"height\":300,\"left\":[{\"id\":\"1468\"}],\"margin\":[5,5,5,5],\"min_border_bottom\":10,\"min_border_left\":10,\"min_border_right\":10,\"min_border_top\":10,\"renderers\":[{\"id\":\"1497\"},{\"id\":\"1530\"}],\"right\":[{\"id\":\"1521\"}],\"sizing_mode\":\"fixed\",\"title\":{\"id\":\"1456\"},\"toolbar\":{\"id\":\"1478\"},\"width\":700,\"x_range\":{\"id\":\"1451\"},\"x_scale\":{\"id\":\"1460\"},\"y_range\":{\"id\":\"1452\"},\"y_scale\":{\"id\":\"1462\"}},\"id\":\"1455\",\"subtype\":\"Figure\",\"type\":\"Plot\"},{\"attributes\":{\"line_color\":\"#30a2da\",\"line_width\":2,\"x\":{\"field\":\"Date\"},\"y\":{\"field\":\"value\"}},\"id\":\"1523\",\"type\":\"Line\"}],\"root_ids\":[\"1449\"]},\"title\":\"Bokeh Application\",\"version\":\"2.3.2\"}};\n",
       "    var render_items = [{\"docid\":\"72857f7d-7d53-465a-beb2-b20fb55ea911\",\"root_ids\":[\"1449\"],\"roots\":{\"1449\":\"b4ddc0e5-c6c0-4dde-9e09-61cd4ebe55df\"}}];\n",
       "    root.Bokeh.embed.embed_items_notebook(docs_json, render_items);\n",
       "  }\n",
       "  if (root.Bokeh !== undefined && root.Bokeh.Panel !== undefined) {\n",
       "    embed_document(root);\n",
       "  } else {\n",
       "    var attempts = 0;\n",
       "    var timer = setInterval(function(root) {\n",
       "      if (root.Bokeh !== undefined && root.Bokeh.Panel !== undefined) {\n",
       "        clearInterval(timer);\n",
       "        embed_document(root);\n",
       "      } else if (document.readyState == \"complete\") {\n",
       "        attempts++;\n",
       "        if (attempts > 200) {\n",
       "          clearInterval(timer);\n",
       "          console.log(\"Bokeh: ERROR: Unable to run BokehJS code because BokehJS library is missing\");\n",
       "        }\n",
       "      }\n",
       "    }, 25, root)\n",
       "  }\n",
       "})(window);</script>"
      ],
      "text/plain": [
       ":NdOverlay   [Variable]\n",
       "   :Curve   [Date]   (value)"
      ]
     },
     "execution_count": 28,
     "metadata": {
      "application/vnd.holoviews_exec.v0+json": {
       "id": "1449"
      }
     },
     "output_type": "execute_result"
    }
   ],
   "source": [
    "sp_cmc.hvplot.line(title='CMC200 and S&P500 Overlayed')"
   ]
  },
  {
   "cell_type": "code",
   "execution_count": 33,
   "metadata": {},
   "outputs": [
    {
     "data": {},
     "metadata": {},
     "output_type": "display_data"
    },
    {
     "data": {
      "application/vnd.holoviews_exec.v0+json": "",
      "text/html": [
       "<div id='1896'>\n",
       "\n",
       "\n",
       "\n",
       "\n",
       "\n",
       "  <div class=\"bk-root\" id=\"8a6f6913-c479-4d4f-8e20-20a54188d47a\" data-root-id=\"1896\"></div>\n",
       "</div>\n",
       "<script type=\"application/javascript\">(function(root) {\n",
       "  function embed_document(root) {\n",
       "    var docs_json = {\"449c93d6-e76c-42a6-a847-c01995792497\":{\"defs\":[{\"extends\":null,\"module\":null,\"name\":\"ReactiveHTML1\",\"overrides\":[],\"properties\":[]},{\"extends\":null,\"module\":null,\"name\":\"FlexBox1\",\"overrides\":[],\"properties\":[{\"default\":\"flex-start\",\"kind\":null,\"name\":\"align_content\"},{\"default\":\"flex-start\",\"kind\":null,\"name\":\"align_items\"},{\"default\":\"row\",\"kind\":null,\"name\":\"flex_direction\"},{\"default\":\"wrap\",\"kind\":null,\"name\":\"flex_wrap\"},{\"default\":\"flex-start\",\"kind\":null,\"name\":\"justify_content\"}]},{\"extends\":null,\"module\":null,\"name\":\"TemplateActions1\",\"overrides\":[],\"properties\":[{\"default\":0,\"kind\":null,\"name\":\"open_modal\"},{\"default\":0,\"kind\":null,\"name\":\"close_modal\"}]},{\"extends\":null,\"module\":null,\"name\":\"MaterialTemplateActions1\",\"overrides\":[],\"properties\":[{\"default\":0,\"kind\":null,\"name\":\"open_modal\"},{\"default\":0,\"kind\":null,\"name\":\"close_modal\"}]}],\"roots\":{\"references\":[{\"attributes\":{\"months\":[0,6]},\"id\":\"1963\",\"type\":\"MonthsTicker\"},{\"attributes\":{},\"id\":\"1918\",\"type\":\"SaveTool\"},{\"attributes\":{},\"id\":\"1943\",\"type\":\"BasicTickFormatter\"},{\"attributes\":{\"line_alpha\":0.2,\"line_color\":\"#30a2da\",\"line_width\":2,\"x\":{\"field\":\"Date\"},\"y\":{\"field\":\"0\"}},\"id\":\"1936\",\"type\":\"Line\"},{\"attributes\":{},\"id\":\"1919\",\"type\":\"PanTool\"},{\"attributes\":{},\"id\":\"1944\",\"type\":\"AllLabels\"},{\"attributes\":{\"data_source\":{\"id\":\"1931\"},\"glyph\":{\"id\":\"1934\"},\"hover_glyph\":null,\"muted_glyph\":{\"id\":\"1936\"},\"nonselection_glyph\":{\"id\":\"1935\"},\"selection_glyph\":{\"id\":\"1939\"},\"view\":{\"id\":\"1938\"}},\"id\":\"1937\",\"type\":\"GlyphRenderer\"},{\"attributes\":{},\"id\":\"1922\",\"type\":\"ResetTool\"},{\"attributes\":{},\"id\":\"1940\",\"type\":\"DatetimeTickFormatter\"},{\"attributes\":{},\"id\":\"1920\",\"type\":\"WheelZoomTool\"},{\"attributes\":{\"text\":\"CMC200 and S&P500 Averaged\",\"text_color\":\"black\",\"text_font_size\":\"12pt\"},\"id\":\"1902\",\"type\":\"Title\"},{\"attributes\":{},\"id\":\"1964\",\"type\":\"YearsTicker\"},{\"attributes\":{\"margin\":[5,5,5,5],\"name\":\"HSpacer02519\",\"sizing_mode\":\"stretch_width\"},\"id\":\"1897\",\"type\":\"Spacer\"},{\"attributes\":{\"overlay\":{\"id\":\"1923\"}},\"id\":\"1921\",\"type\":\"BoxZoomTool\"},{\"attributes\":{\"num_minor_ticks\":5,\"tickers\":[{\"id\":\"1953\"},{\"id\":\"1954\"},{\"id\":\"1955\"},{\"id\":\"1956\"},{\"id\":\"1957\"},{\"id\":\"1958\"},{\"id\":\"1959\"},{\"id\":\"1960\"},{\"id\":\"1961\"},{\"id\":\"1962\"},{\"id\":\"1963\"},{\"id\":\"1964\"}]},\"id\":\"1911\",\"type\":\"DatetimeTicker\"},{\"attributes\":{\"mantissas\":[1,2,5],\"max_interval\":500.0,\"num_minor_ticks\":0},\"id\":\"1953\",\"type\":\"AdaptiveTicker\"},{\"attributes\":{\"days\":[1,2,3,4,5,6,7,8,9,10,11,12,13,14,15,16,17,18,19,20,21,22,23,24,25,26,27,28,29,30,31]},\"id\":\"1956\",\"type\":\"DaysTicker\"},{\"attributes\":{\"base\":60,\"mantissas\":[1,2,5,10,15,20,30],\"max_interval\":1800000.0,\"min_interval\":1000.0,\"num_minor_ticks\":0},\"id\":\"1954\",\"type\":\"AdaptiveTicker\"},{\"attributes\":{},\"id\":\"1966\",\"type\":\"UnionRenderers\"},{\"attributes\":{},\"id\":\"1906\",\"type\":\"LinearScale\"},{\"attributes\":{\"axis_label\":\"Date\",\"formatter\":{\"id\":\"1940\"},\"major_label_policy\":{\"id\":\"1941\"},\"ticker\":{\"id\":\"1911\"}},\"id\":\"1910\",\"type\":\"DatetimeAxis\"},{\"attributes\":{\"base\":24,\"mantissas\":[1,2,4,6,8,12],\"max_interval\":43200000.0,\"min_interval\":3600000.0,\"num_minor_ticks\":0},\"id\":\"1955\",\"type\":\"AdaptiveTicker\"},{\"attributes\":{\"end\":1629331200000.0,\"reset_end\":1629331200000.0,\"reset_start\":1597881600000.0,\"start\":1597881600000.0,\"tags\":[[[\"Date\",\"Date\",null]]]},\"id\":\"1898\",\"type\":\"Range1d\"},{\"attributes\":{\"children\":[{\"id\":\"1897\"},{\"id\":\"1901\"},{\"id\":\"1990\"}],\"margin\":[0,0,0,0],\"name\":\"Row02515\",\"tags\":[\"embedded\"]},\"id\":\"1896\",\"type\":\"Row\"},{\"attributes\":{},\"id\":\"1908\",\"type\":\"LinearScale\"},{\"attributes\":{\"data\":{\"0\":{\"__ndarray__\":\"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\",\"dtype\":\"float64\",\"order\":\"little\",\"shape\":[242]},\"A_0\":{\"__ndarray__\":\"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\",\"dtype\":\"float64\",\"order\":\"little\",\"shape\":[242]},\"Date\":{\"__ndarray__\":\"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\",\"dtype\":\"float64\",\"order\":\"little\",\"shape\":[242]}},\"selected\":{\"id\":\"1932\"},\"selection_policy\":{\"id\":\"1966\"}},\"id\":\"1931\",\"type\":\"ColumnDataSource\"},{\"attributes\":{\"days\":[1,4,7,10,13,16,19,22,25,28]},\"id\":\"1957\",\"type\":\"DaysTicker\"},{\"attributes\":{},\"id\":\"1932\",\"type\":\"Selection\"},{\"attributes\":{\"axis_label\":\"\",\"formatter\":{\"id\":\"1943\"},\"major_label_policy\":{\"id\":\"1944\"},\"ticker\":{\"id\":\"1915\"}},\"id\":\"1914\",\"type\":\"LinearAxis\"},{\"attributes\":{\"axis\":{\"id\":\"1910\"},\"grid_line_color\":null,\"ticker\":null},\"id\":\"1913\",\"type\":\"Grid\"},{\"attributes\":{\"months\":[0,1,2,3,4,5,6,7,8,9,10,11]},\"id\":\"1960\",\"type\":\"MonthsTicker\"},{\"attributes\":{\"below\":[{\"id\":\"1910\"}],\"center\":[{\"id\":\"1913\"},{\"id\":\"1917\"}],\"height\":300,\"left\":[{\"id\":\"1914\"}],\"margin\":[5,5,5,5],\"min_border_bottom\":10,\"min_border_left\":10,\"min_border_right\":10,\"min_border_top\":10,\"renderers\":[{\"id\":\"1937\"}],\"sizing_mode\":\"fixed\",\"title\":{\"id\":\"1902\"},\"toolbar\":{\"id\":\"1924\"},\"width\":700,\"x_range\":{\"id\":\"1898\"},\"x_scale\":{\"id\":\"1906\"},\"y_range\":{\"id\":\"1899\"},\"y_scale\":{\"id\":\"1908\"}},\"id\":\"1901\",\"subtype\":\"Figure\",\"type\":\"Plot\"},{\"attributes\":{\"active_multi\":null,\"tools\":[{\"id\":\"1900\"},{\"id\":\"1918\"},{\"id\":\"1919\"},{\"id\":\"1920\"},{\"id\":\"1921\"},{\"id\":\"1922\"}]},\"id\":\"1924\",\"type\":\"Toolbar\"},{\"attributes\":{},\"id\":\"1915\",\"type\":\"BasicTicker\"},{\"attributes\":{\"days\":[1,8,15,22]},\"id\":\"1958\",\"type\":\"DaysTicker\"},{\"attributes\":{\"axis\":{\"id\":\"1914\"},\"dimension\":1,\"grid_line_color\":null,\"ticker\":null},\"id\":\"1917\",\"type\":\"Grid\"},{\"attributes\":{\"days\":[1,15]},\"id\":\"1959\",\"type\":\"DaysTicker\"},{\"attributes\":{\"end\":2822.4838492584227,\"reset_end\":2822.4838492584227,\"reset_start\":1712.0936493682862,\"start\":1712.0936493682862,\"tags\":[[[\"0\",\"0\",null]]]},\"id\":\"1899\",\"type\":\"Range1d\"},{\"attributes\":{\"source\":{\"id\":\"1931\"}},\"id\":\"1938\",\"type\":\"CDSView\"},{\"attributes\":{\"line_color\":\"#30a2da\",\"line_width\":2,\"x\":{\"field\":\"Date\"},\"y\":{\"field\":\"0\"}},\"id\":\"1934\",\"type\":\"Line\"},{\"attributes\":{\"months\":[0,2,4,6,8,10]},\"id\":\"1961\",\"type\":\"MonthsTicker\"},{\"attributes\":{},\"id\":\"1941\",\"type\":\"AllLabels\"},{\"attributes\":{\"callback\":null,\"formatters\":{\"@{Date}\":\"datetime\"},\"renderers\":[{\"id\":\"1937\"}],\"tags\":[\"hv_created\"],\"tooltips\":[[\"Date\",\"@{Date}{%F %T}\"],[\"0\",\"@{A_0}\"]]},\"id\":\"1900\",\"type\":\"HoverTool\"},{\"attributes\":{\"line_color\":\"#30a2da\",\"line_width\":2,\"x\":{\"field\":\"Date\"},\"y\":{\"field\":\"0\"}},\"id\":\"1939\",\"type\":\"Line\"},{\"attributes\":{\"line_alpha\":0.1,\"line_color\":\"#30a2da\",\"line_width\":2,\"x\":{\"field\":\"Date\"},\"y\":{\"field\":\"0\"}},\"id\":\"1935\",\"type\":\"Line\"},{\"attributes\":{\"months\":[0,4,8]},\"id\":\"1962\",\"type\":\"MonthsTicker\"},{\"attributes\":{\"bottom_units\":\"screen\",\"fill_alpha\":0.5,\"fill_color\":\"lightgrey\",\"left_units\":\"screen\",\"level\":\"overlay\",\"line_alpha\":1.0,\"line_color\":\"black\",\"line_dash\":[4,4],\"line_width\":2,\"right_units\":\"screen\",\"syncable\":false,\"top_units\":\"screen\"},\"id\":\"1923\",\"type\":\"BoxAnnotation\"},{\"attributes\":{\"margin\":[5,5,5,5],\"name\":\"HSpacer02520\",\"sizing_mode\":\"stretch_width\"},\"id\":\"1990\",\"type\":\"Spacer\"}],\"root_ids\":[\"1896\"]},\"title\":\"Bokeh Application\",\"version\":\"2.3.2\"}};\n",
       "    var render_items = [{\"docid\":\"449c93d6-e76c-42a6-a847-c01995792497\",\"root_ids\":[\"1896\"],\"roots\":{\"1896\":\"8a6f6913-c479-4d4f-8e20-20a54188d47a\"}}];\n",
       "    root.Bokeh.embed.embed_items_notebook(docs_json, render_items);\n",
       "  }\n",
       "  if (root.Bokeh !== undefined && root.Bokeh.Panel !== undefined) {\n",
       "    embed_document(root);\n",
       "  } else {\n",
       "    var attempts = 0;\n",
       "    var timer = setInterval(function(root) {\n",
       "      if (root.Bokeh !== undefined && root.Bokeh.Panel !== undefined) {\n",
       "        clearInterval(timer);\n",
       "        embed_document(root);\n",
       "      } else if (document.readyState == \"complete\") {\n",
       "        attempts++;\n",
       "        if (attempts > 200) {\n",
       "          clearInterval(timer);\n",
       "          console.log(\"Bokeh: ERROR: Unable to run BokehJS code because BokehJS library is missing\");\n",
       "        }\n",
       "      }\n",
       "    }, 25, root)\n",
       "  }\n",
       "})(window);</script>"
      ],
      "text/plain": [
       ":Curve   [Date]   (0)"
      ]
     },
     "execution_count": 33,
     "metadata": {
      "application/vnd.holoviews_exec.v0+json": {
       "id": "1896"
      }
     },
     "output_type": "execute_result"
    }
   ],
   "source": [
    "sp_cmc_avg = index.mean(axis=1)\n",
    "sp_cmc_avg_30 = sp_cmc_avg.rolling(window=30).mean()\n",
    "sp_cmc_avg_30.hvplot.line(title='CMC200 and S&P500 Averaged')"
   ]
  },
  {
   "cell_type": "code",
   "execution_count": null,
   "metadata": {},
   "outputs": [],
   "source": []
  }
 ],
 "metadata": {
  "interpreter": {
   "hash": "901b28325d8e79da521604df39a7e292bc0bc31767341eb3e4c2a0f65ea209c6"
  },
  "kernelspec": {
   "display_name": "dev",
   "language": "python",
   "name": "dev"
  },
  "language_info": {
   "codemirror_mode": {
    "name": "ipython",
    "version": 3
   },
   "file_extension": ".py",
   "mimetype": "text/x-python",
   "name": "python",
   "nbconvert_exporter": "python",
   "pygments_lexer": "ipython3",
   "version": "3.7.10"
  }
 },
 "nbformat": 4,
 "nbformat_minor": 4
}
