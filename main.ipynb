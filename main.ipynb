{
 "cells": [
  {
   "cell_type": "code",
   "execution_count": 9,
   "metadata": {},
   "outputs": [],
   "source": [
    "from data_retrieval import alpaca\n",
    "from data_retrieval import crypto_market\n",
    "from data_retrieval import getbinance\n",
    "from functions_graphs import functions\n",
    "from user_input import risk_assesment\n",
    "import pandas as pd"
   ]
  },
  {
   "cell_type": "code",
   "execution_count": 10,
   "metadata": {},
   "outputs": [],
   "source": [
    "# user_input = ra.get_user_risk_tolerance()"
   ]
  },
  {
   "cell_type": "code",
   "execution_count": 45,
   "metadata": {},
   "outputs": [],
   "source": [
    "def get_crypto_dict():\n",
    "    # Returns a dictionary with ticker as index and its dataframe as a value\n",
    "    cryptos = ['ADA', 'BNB', 'BTC', 'DOT', 'ETH', 'LINK', 'LTC', 'VET', 'XLM', 'XRP']\n",
    "    crypto_dict = {}\n",
    "    for ticker in cryptos:\n",
    "        df = getbinance.Binance(ticker, 3)\n",
    "        df = pd.DataFrame(df)\n",
    "        crypto_dict[ticker] = df\n",
    "\n",
    "    return crypto_dict"
   ]
  },
  {
   "cell_type": "code",
   "execution_count": 46,
   "metadata": {},
   "outputs": [],
   "source": [
    "dictionary = get_crypto_dict()"
   ]
  },
  {
   "cell_type": "code",
   "execution_count": 47,
   "metadata": {},
   "outputs": [],
   "source": [
    "def get_std(crypto_dfs):\n",
    "    # Returns a dictionary of all crypto stds\n",
    "    cryptos = ['ADA', 'BNB', 'BTC', 'DOT', 'ETH', 'LINK', 'LTC', 'VET', 'XLM', 'XRP']\n",
    "    crypto_std = {}\n",
    "    for ticker in cryptos:\n",
    "        df = crypto_dfs[ticker]\n",
    "        c_name = f\"{ticker}USDT_Close\"\n",
    "        funct = functions.Functions(df, c_name)\n",
    "        df = funct.daily_returns()\n",
    "        df.dropna(inplace=True)\n",
    "\n",
    "        crypto_std[ticker] = funct.standard_deviation()\n",
    "#         display(df.head())\n",
    "    return crypto_std"
   ]
  },
  {
   "cell_type": "code",
   "execution_count": 48,
   "metadata": {},
   "outputs": [],
   "source": [
    "crypto_std = get_std(dictionary)"
   ]
  },
  {
   "cell_type": "code",
   "execution_count": 15,
   "metadata": {},
   "outputs": [],
   "source": [
    "# Make a dictionary, save the main key as the ticker, in the values save the std and the percent change series in nexted dictionaries"
   ]
  },
  {
   "cell_type": "code",
   "execution_count": 49,
   "metadata": {},
   "outputs": [],
   "source": [
    "# 0.0 -.057 Low\n",
    "# .057 - .073 Med\n",
    "# .073 - 1 High\n",
    "def sort_crypto_std(crypto_std):\n",
    "    # Returns a dictionary with all crypto std's sorted from low to high risk\n",
    "    high_risk = {}\n",
    "    med_risk = {}\n",
    "    low_risk = {}\n",
    "    for ticker, std in crypto_std.items():\n",
    "        if float(std) <= 0.057:\n",
    "            low_risk[ticker] = std\n",
    "        if float(std) > 0.057 and float(std) <= 0.073:\n",
    "            med_risk[ticker] = std\n",
    "        if float(std) > 0.073:\n",
    "            high_risk[ticker] = std\n",
    "\n",
    "\n",
    "    return {\"low\":low_risk, \"med\":med_risk, \"high\":high_risk}"
   ]
  },
  {
   "cell_type": "code",
   "execution_count": 50,
   "metadata": {},
   "outputs": [
    {
     "name": "stdout",
     "output_type": "stream",
     "text": [
      "Low Risk Cryptos - BTC:0.039394843988365534\n",
      "Low Risk Cryptos - ETH:0.052361023385229806\n",
      "Low Risk Cryptos - LTC:0.055038082950316425\n",
      "----------\n",
      "Medium Risk Cryptos - ADA:0.05999963720001747\n",
      "Medium Risk Cryptos - BNB:0.05977418155407327\n",
      "Medium Risk Cryptos - LINK:0.07157632906865609\n",
      "Medium Risk Cryptos - VET:0.06852191988742666\n",
      "Medium Risk Cryptos - XLM:0.06330666486672644\n",
      "Medium Risk Cryptos - XRP:0.06490930907480714\n",
      "----------\n",
      "High Risk Cryptos - DOT:0.08365198580869644\n"
     ]
    }
   ],
   "source": [
    "sorted_std = sort_crypto_std(crypto_std)\n",
    "for t,v in sorted_std['low'].items():\n",
    "    print(f\"Low Risk Cryptos - {t}:{v}\")\n",
    "print(\"----------\")\n",
    "for t,v in sorted_std['med'].items():\n",
    "    print(f\"Medium Risk Cryptos - {t}:{v}\")  \n",
    "print(\"----------\")\n",
    "for t,v in sorted_std['high'].items():\n",
    "    print(f\"High Risk Cryptos - {t}:{v}\")"
   ]
  },
  {
   "cell_type": "code",
   "execution_count": 44,
   "metadata": {},
   "outputs": [
    {
     "data": {
      "text/plain": [
       "{'low': {'BTC': 0.03945304771366324,\n",
       "  'ETH': 0.05244884363519114,\n",
       "  'LTC': 0.05512365630029008},\n",
       " 'med': {'ADA': 0.060055934547537264,\n",
       "  'BNB': 0.059868182427903385,\n",
       "  'LINK': 0.07171179932422474,\n",
       "  'VET': 0.06857860252382497,\n",
       "  'XLM': 0.063401144014262,\n",
       "  'XRP': 0.06500505286508543},\n",
       " 'high': {'DOT': 0.07859867388294556}}"
      ]
     },
     "execution_count": 44,
     "metadata": {},
     "output_type": "execute_result"
    }
   ],
   "source": []
  },
  {
   "cell_type": "code",
   "execution_count": null,
   "metadata": {},
   "outputs": [],
   "source": []
  }
 ],
 "metadata": {
  "interpreter": {
   "hash": "901b28325d8e79da521604df39a7e292bc0bc31767341eb3e4c2a0f65ea209c6"
  },
  "kernelspec": {
   "display_name": "Python 3",
   "language": "python",
   "name": "python3"
  },
  "language_info": {
   "codemirror_mode": {
    "name": "ipython",
    "version": 3
   },
   "file_extension": ".py",
   "mimetype": "text/x-python",
   "name": "python",
   "nbconvert_exporter": "python",
   "pygments_lexer": "ipython3",
   "version": "3.7.10"
  }
 },
 "nbformat": 4,
 "nbformat_minor": 4
}
